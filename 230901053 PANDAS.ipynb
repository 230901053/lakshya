{
 "cells": [
  {
   "cell_type": "code",
   "execution_count": 13,
   "id": "a2de00ac",
   "metadata": {},
   "outputs": [
    {
     "name": "stdout",
     "output_type": "stream",
     "text": [
      "\n",
      " original Data Frame: \n",
      "    s  r\n",
      "0  3  9\n",
      "1  3  9\n",
      "2  3  9\n",
      "3  3  9\n",
      "\n",
      " square root: \n",
      "           s    r\n",
      "0  1.732051  3.0\n",
      "1  1.732051  3.0\n",
      "2  1.732051  3.0\n",
      "3  1.732051  3.0\n",
      "\n",
      " sum of each column: \n",
      " s    12\n",
      "r    36\n",
      "dtype: int64\n",
      "\n",
      " sum of each row: \n",
      " 0    12\n",
      "1    12\n",
      "2    12\n",
      "3    12\n",
      "dtype: int64\n"
     ]
    }
   ],
   "source": [
    "import pandas as pd\n",
    "import numpy as np\n",
    "info=pd.DataFrame([[3,9]]*4,columns=['s','r'])\n",
    "print(\"\\n original Data Frame: \\n\",info)\n",
    "print(\"\\n square root: \\n\",info.apply(np.sqrt))\n",
    "print(\"\\n sum of each column: \\n\",info.apply(np.sum,axis=0))\n",
    "print(\"\\n sum of each row: \\n\",info.apply(np.sum,axis=1))"
   ]
  },
  {
   "cell_type": "code",
   "execution_count": 19,
   "id": "dd084978",
   "metadata": {},
   "outputs": [
    {
     "name": "stdout",
     "output_type": "stream",
     "text": [
      "   x  y  z\n",
      "0  2  4  6\n",
      "1  1  3  5\n",
      "2  5  8  7\n",
      "     x  y  z\n",
      "min  1  3  5\n",
      "max  5  8  7\n"
     ]
    }
   ],
   "source": [
    "import pandas as pd\n",
    "import numpy as np\n",
    "info=pd.DataFrame([[2,4,6],[1,3,5],[5,8,7]],columns=['x','y','z'])\n",
    "print(info)\n",
    "print(info.agg(['min','max']))"
   ]
  },
  {
   "cell_type": "code",
   "execution_count": 26,
   "id": "8df6c4ea",
   "metadata": {},
   "outputs": [
    {
     "name": "stdout",
     "output_type": "stream",
     "text": [
      "  Employee name  ID\n",
      "0           sai  88\n",
      "1           poo  70\n",
      "adding new column \n",
      "   Employee name  ID  age\n",
      "0           sai  88   20\n",
      "1           poo  70   10\n"
     ]
    }
   ],
   "source": [
    "import pandas as pd\n",
    "import numpy as np\n",
    "a=pd.DataFrame([['sai',88],['poo',70]],columns=['Employee name','ID'])\n",
    "print(a)\n",
    "a['age']=[20,10]\n",
    "print(\"adding new column \\n\",a)\n"
   ]
  },
  {
   "cell_type": "code",
   "execution_count": 29,
   "id": "a931f4c2",
   "metadata": {},
   "outputs": [
    {
     "name": "stdout",
     "output_type": "stream",
     "text": [
      "  Employee name  ID  age\n",
      "0           sai  88   20\n",
      "1           poo  70   10\n",
      "adding new column \n",
      "   Employee name  ID   sex\n",
      "0           sai  88  male\n",
      "1           poo  70  male\n"
     ]
    }
   ],
   "source": [
    "import pandas as pd\n",
    "import numpy as np\n",
    "b=pd.DataFrame([['sai',88],['poo',70]],columns=['Employee name','ID'])\n",
    "print(a)\n",
    "b['sex']=['male','male']\n",
    "print(\"adding new column \\n\",b)\n",
    "a=a.assign(age=[20,18])"
   ]
  },
  {
   "cell_type": "code",
   "execution_count": 36,
   "id": "421541f7",
   "metadata": {},
   "outputs": [
    {
     "name": "stdout",
     "output_type": "stream",
     "text": [
      "       col3      col4\n",
      "3  1.912006  0.242354\n",
      "2  2.021550  0.201437\n",
      "0 -0.912875  0.276262\n",
      "4 -0.095765 -1.368530\n",
      "1  0.660272  0.152120\n",
      "       col3      col4\n",
      "0 -0.912875  0.276262\n",
      "1  0.660272  0.152120\n",
      "2  2.021550  0.201437\n",
      "3  1.912006  0.242354\n",
      "4 -0.095765 -1.368530\n"
     ]
    }
   ],
   "source": [
    "import pandas as pd\n",
    "import numpy as np\n",
    "info=pd.DataFrame(np.random.randn(5,2),index=[3,2,0,4,1],columns=['col3','col4'])\n",
    "print(info)\n",
    "info2=info.sort_index()\n",
    "print(info2)\n",
    "info3=info.sort_values(by='col3')"
   ]
  },
  {
   "cell_type": "code",
   "execution_count": 1,
   "id": "d5059ff2",
   "metadata": {},
   "outputs": [
    {
     "name": "stdout",
     "output_type": "stream",
     "text": [
      "   id  Name    sub\n",
      "0   1   sai  sub 1\n",
      "1   2   poo  sub 2\n",
      "2   3  suba  sub 4\n",
      "3   4  yuvi  sub 3\n",
      "   id   Name    sub\n",
      "0   1  sanju  sub 2\n",
      "1   2  saran  sub 4\n",
      "2   3    som  sub 3\n",
      "3   4   rubi  sub 5\n",
      "   id Name_x  sub_x Name_y  sub_y\n",
      "0   1    sai  sub 1  sanju  sub 2\n",
      "1   2    poo  sub 2  saran  sub 4\n",
      "2   3   suba  sub 4    som  sub 3\n",
      "3   4   yuvi  sub 3   rubi  sub 5\n"
     ]
    }
   ],
   "source": [
    "import pandas as pd\n",
    "import numpy as np\n",
    "left=pd.DataFrame({'id':[1,2,3,4],'Name':['sai','poo','suba','yuvi'],'sub':['sub 1','sub 2','sub 4','sub 3']})\n",
    "right=pd.DataFrame({'id':[1,2,3,4],'Name':['sanju','saran','som','rubi'],'sub':['sub 2','sub 4','sub 3','sub 5']})\n",
    "print(left)\n",
    "print(right)\n",
    "print(pd.merge(left,right,on=\"id\"))\n"
   ]
  },
  {
   "cell_type": "code",
   "execution_count": null,
   "id": "2b81bdd9",
   "metadata": {},
   "outputs": [],
   "source": []
  }
 ],
 "metadata": {
  "kernelspec": {
   "display_name": "Python 3 (ipykernel)",
   "language": "python",
   "name": "python3"
  },
  "language_info": {
   "codemirror_mode": {
    "name": "ipython",
    "version": 3
   },
   "file_extension": ".py",
   "mimetype": "text/x-python",
   "name": "python",
   "nbconvert_exporter": "python",
   "pygments_lexer": "ipython3",
   "version": "3.10.9"
  }
 },
 "nbformat": 4,
 "nbformat_minor": 5
}
