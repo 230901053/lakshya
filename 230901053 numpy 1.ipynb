{
 "cells": [
  {
   "cell_type": "code",
   "execution_count": 2,
   "id": "a9d74a64",
   "metadata": {},
   "outputs": [
    {
     "name": "stdout",
     "output_type": "stream",
     "text": [
      "one dimenstional array: [10 20 30 40]\n"
     ]
    }
   ],
   "source": [
    "import numpy as np\n",
    "a=np.array ([10,20,30,40])\n",
    "print(\"one dimenstional array:\",a)\n"
   ]
  },
  {
   "cell_type": "code",
   "execution_count": 3,
   "id": "83a48114",
   "metadata": {},
   "outputs": [
    {
     "name": "stdout",
     "output_type": "stream",
     "text": [
      "Two dimenstional array: [[10 20 30 40]\n",
      " [50 60 70 80]]\n"
     ]
    }
   ],
   "source": [
    "import numpy as np\n",
    "b=np.array([[10,20,30,40],[50,60,70,80]])\n",
    "print(\"Two dimenstional array:\",b)"
   ]
  },
  {
   "cell_type": "code",
   "execution_count": 4,
   "id": "f48233ce",
   "metadata": {},
   "outputs": [
    {
     "name": "stdout",
     "output_type": "stream",
     "text": [
      "Three dimenstional array: [[10 20 30]\n",
      " [40 50 60]\n",
      " [70 80 90]]\n"
     ]
    }
   ],
   "source": [
    "import numpy as np\n",
    "c=np.array([[10,20,30],[40,50,60],[70,80,90]])\n",
    "print(\"Three dimenstional array:\",c)"
   ]
  },
  {
   "cell_type": "code",
   "execution_count": 5,
   "id": "1c1adc13",
   "metadata": {},
   "outputs": [
    {
     "name": "stdout",
     "output_type": "stream",
     "text": [
      "\n",
      " array with all zeors:\n",
      " [[0. 0. 0. 0. 0.]\n",
      " [0. 0. 0. 0. 0.]\n",
      " [0. 0. 0. 0. 0.]]\n"
     ]
    }
   ],
   "source": [
    "import numpy as np\n",
    "d=np.zeros((3,5))\n",
    "print(\"\\n array with all zeors:\\n\",d)\n"
   ]
  },
  {
   "cell_type": "code",
   "execution_count": 6,
   "id": "a884f3f8",
   "metadata": {},
   "outputs": [
    {
     "name": "stdout",
     "output_type": "stream",
     "text": [
      "\n",
      " random value:\n",
      " [[0.07002638 0.28955529 0.54648969 0.04258103 0.2559223  0.07090139]\n",
      " [0.29462541 0.79481945 0.0124122  0.5756333  0.49086136 0.57901494]\n",
      " [0.94630568 0.7592566  0.51460589 0.01381482 0.44899036 0.17847554]\n",
      " [0.15824512 0.34250425 0.21085928 0.77286065 0.83802365 0.92856161]\n",
      " [0.76026405 0.38150352 0.86836327 0.72013047 0.59488144 0.05894668]]\n"
     ]
    }
   ],
   "source": [
    "import numpy as np\n",
    "e=np.random.random((5,6))\n",
    "print(\"\\n random value:\\n\",e)"
   ]
  },
  {
   "cell_type": "code",
   "execution_count": 7,
   "id": "c2132d0a",
   "metadata": {},
   "outputs": [
    {
     "name": "stdout",
     "output_type": "stream",
     "text": [
      "\n",
      " sequence array:\n",
      " [ 6 10]\n"
     ]
    }
   ],
   "source": [
    "import numpy as np\n",
    "f=np.arange(6,12,4)\n",
    "print(\"\\n sequence array:\\n\",f)"
   ]
  },
  {
   "cell_type": "code",
   "execution_count": 8,
   "id": "b8f1a23e",
   "metadata": {},
   "outputs": [
    {
     "name": "stdout",
     "output_type": "stream",
     "text": [
      "\n",
      " old array:\n",
      " [[ 1  2  3  4]\n",
      " [ 5  6  7  8]\n",
      " [ 9 10 11 12]]\n",
      "\n",
      " reshaped array:\n",
      " [[ 1  2  3]\n",
      " [ 4  5  6]\n",
      " [ 7  8  9]\n",
      " [10 11 12]]\n"
     ]
    }
   ],
   "source": [
    "import numpy as np\n",
    "a=np.array([[1,2,3,4],[5,6,7,8],[9,10,11,12]])\n",
    "b=a.reshape(4,3)\n",
    "print(\"\\n old array:\\n\",a)\n",
    "print(\"\\n reshaped array:\\n\",b)"
   ]
  },
  {
   "cell_type": "code",
   "execution_count": 13,
   "id": "ecda78be",
   "metadata": {},
   "outputs": [
    {
     "name": "stdout",
     "output_type": "stream",
     "text": [
      "\n",
      " original array:\n",
      " [[ 1  2  3  4]\n",
      " [ 5  6  7  8]\n",
      " [ 9 10 11 12]]\n",
      "flattened array:\n",
      " [ 1  2  3  4  5  6  7  8  9 10 11 12]\n"
     ]
    }
   ],
   "source": [
    "m=np.array([[1,2,3,4],[5,6,7,8],[9,10,11,12]])\n",
    "flat=m.flatten()\n",
    "print(\"\\n original array:\\n\",m)\n",
    "print(\"flattened array:\\n\",flat)"
   ]
  },
  {
   "cell_type": "code",
   "execution_count": 15,
   "id": "f0f55759",
   "metadata": {},
   "outputs": [
    {
     "name": "stdout",
     "output_type": "stream",
     "text": [
      "\n",
      " no of dimemnstional array:\n",
      " 2\n"
     ]
    }
   ],
   "source": [
    "a=np.array([[1,2,3,4],[5,6,7,8],[9,10,11,12]])\n",
    "print(\"\\n no of dimemnstional array:\\n\",a.ndim)"
   ]
  },
  {
   "cell_type": "code",
   "execution_count": 21,
   "id": "37ad05e3",
   "metadata": {},
   "outputs": [
    {
     "name": "stdout",
     "output_type": "stream",
     "text": [
      "\n",
      " no of dimenstioanl array:\n",
      " 3\n"
     ]
    }
   ],
   "source": [
    "b=np.array([[[1,2,3],[4,5,6]],[[7,8,9],[10,11,12]]])\n",
    "print(\"\\n no of dimenstioanl array:\\n\",b.ndim)"
   ]
  },
  {
   "cell_type": "code",
   "execution_count": 24,
   "id": "987b053e",
   "metadata": {},
   "outputs": [
    {
     "name": "stdout",
     "output_type": "stream",
     "text": [
      "\n",
      " no of dimenstional array:\n",
      " 3\n",
      "\n",
      " shape of array: (2, 2, 3)\n",
      "\n",
      " elemental array:\n",
      " int64\n"
     ]
    }
   ],
   "source": [
    "b=np.array([[[1,2,3],[4,5,6]],[[7,8,9],[10,11,12]]])\n",
    "print(\"\\n no of dimenstional array:\\n\",b.ndim)\n",
    "print(\"\\n shape of array:\",b.shape)\n",
    "print(\"\\n elemental array:\\n\",b.dtype)"
   ]
  },
  {
   "cell_type": "code",
   "execution_count": 25,
   "id": "50bf32a5",
   "metadata": {},
   "outputs": [
    {
     "name": "stdout",
     "output_type": "stream",
     "text": [
      "\n",
      " size of array\n",
      " 12\n"
     ]
    }
   ],
   "source": [
    "import numpy as np\n",
    "a=np.array([[[1,2,3],[4,5,6]],[[7,8,9],[10,11,12]]])\n",
    "print(\"\\n size of array\\n\",a.size)"
   ]
  },
  {
   "cell_type": "code",
   "execution_count": null,
   "id": "fea2b26e",
   "metadata": {},
   "outputs": [],
   "source": [
    "import numoy as np\n",
    "a=[10,20,30]\n",
    "a=np.array(a)\n"
   ]
  }
 ],
 "metadata": {
  "kernelspec": {
   "display_name": "Python 3 (ipykernel)",
   "language": "python",
   "name": "python3"
  },
  "language_info": {
   "codemirror_mode": {
    "name": "ipython",
    "version": 3
   },
   "file_extension": ".py",
   "mimetype": "text/x-python",
   "name": "python",
   "nbconvert_exporter": "python",
   "pygments_lexer": "ipython3",
   "version": "3.10.9"
  }
 },
 "nbformat": 4,
 "nbformat_minor": 5
}
